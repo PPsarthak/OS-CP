{
 "cells": [
  {
   "cell_type": "markdown",
   "metadata": {},
   "source": [
    "Importing required modules/libraries"
   ]
  },
  {
   "cell_type": "code",
   "execution_count": 1,
   "metadata": {},
   "outputs": [],
   "source": [
    "from tkinter import *\n",
    "import tkinter.filedialog as fd\n",
    "import tkinter.messagebox as mb\n",
    "\n",
    "import os\n",
    "import shutil\n",
    "import zipfile"
   ]
  },
  {
   "cell_type": "markdown",
   "metadata": {},
   "source": [
    "Function to open file"
   ]
  },
  {
   "cell_type": "code",
   "execution_count": 2,
   "metadata": {},
   "outputs": [],
   "source": [
    "def open_file():\n",
    "    file = fd.askopenfilename(title='Choose a file of any type', filetypes=[(\"All files\", \"*.*\")])\n",
    "\n",
    "    os.startfile(os.path.abspath(file))"
   ]
  },
  {
   "cell_type": "markdown",
   "metadata": {},
   "source": [
    "Function to copy file to the choosen folder"
   ]
  },
  {
   "cell_type": "code",
   "execution_count": 3,
   "metadata": {},
   "outputs": [],
   "source": [
    "def copy_file():\n",
    "    file_to_copy = fd.askopenfilename(title='Choose a file to copy', filetypes=[(\"All files\", \"*.*\")])\n",
    "    dir_to_copy_to = fd.askdirectory(title=\"In which folder to copy to?\")\n",
    "\n",
    "    try:\n",
    "        shutil.copy(file_to_copy, dir_to_copy_to)\n",
    "        mb.showinfo(title='File copied!', message='Your desired file has been copied to your desired location')\n",
    "    except:\n",
    "        mb.showerror(title='Error!', message='We were unable to copy your file to the desired location. Please try again')\n"
   ]
  },
  {
   "cell_type": "markdown",
   "metadata": {},
   "source": [
    "Delete choosen file"
   ]
  },
  {
   "cell_type": "code",
   "execution_count": 4,
   "metadata": {},
   "outputs": [],
   "source": [
    "def delete_file():\n",
    "    file = fd.askopenfilename(title='Choose a file to delete', filetypes=[(\"All files\", \"*.*\")])\n",
    "\n",
    "    os.remove(os.path.abspath(file))\n",
    "\n",
    "    mb.showinfo(title='File deleted', message='Your desired file has been deleted')\n"
   ]
  },
  {
   "cell_type": "markdown",
   "metadata": {},
   "source": [
    "Rename choosen file with entered new name"
   ]
  },
  {
   "cell_type": "code",
   "execution_count": 5,
   "metadata": {},
   "outputs": [],
   "source": [
    "def rename_file():\n",
    "    file = fd.askopenfilename(title='Choose a file to rename', filetypes=[(\"All files\", \"*.*\")])\n",
    "\n",
    "    if not file:\n",
    "        return  # User canceled\n",
    "\n",
    "    rename_wn = Toplevel(root)\n",
    "    rename_wn.title(\"Rename the file to\")\n",
    "    rename_wn.geometry(\"300x100\")\n",
    "    rename_wn.resizable(0, 0)\n",
    "\n",
    "    Label(rename_wn, text='What should be the new name of the file?', font=(\"Times New Roman\", 10)).place(x=0, y=0)\n",
    "\n",
    "    new_name = Entry(rename_wn, width=40, font=(\"Times New Roman\", 10))\n",
    "    new_name.place(x=0, y=30)\n",
    "\n",
    "    def rename():\n",
    "        new_file_name = os.path.join(os.path.dirname(file), new_name.get() + os.path.splitext(file)[1])\n",
    "\n",
    "        try:\n",
    "            os.rename(file, new_file_name)\n",
    "            mb.showinfo(title=\"File Renamed\", message='Your desired file has been renamed')\n",
    "            rename_wn.destroy()\n",
    "        except:\n",
    "            mb.showerror(title='Error', message='Failed to rename the file. Please try again')\n",
    "\n",
    "    rename_button = Button(rename_wn, text=\"Rename\", font=(\"Times New Roman\", 10), command=rename)\n",
    "    rename_button.place(x=130, y=70)\n"
   ]
  },
  {
   "cell_type": "markdown",
   "metadata": {},
   "source": [
    "Open Folder"
   ]
  },
  {
   "cell_type": "code",
   "execution_count": 6,
   "metadata": {},
   "outputs": [],
   "source": [
    "def open_folder():\n",
    "    folder = fd.askdirectory(title=\"Select Folder to open\")\n",
    "    os.startfile(folder)"
   ]
  },
  {
   "cell_type": "markdown",
   "metadata": {},
   "source": [
    "Delete Folder"
   ]
  },
  {
   "cell_type": "code",
   "execution_count": 7,
   "metadata": {},
   "outputs": [],
   "source": [
    "def delete_folder():\n",
    "    folder_to_delete = fd.askdirectory(title='Choose a folder to delete')\n",
    "    os.rmdir(folder_to_delete)\n",
    "    mb.showinfo(\"Folder Deleted\", \"Your desired folder has been deleted\")"
   ]
  },
  {
   "cell_type": "markdown",
   "metadata": {},
   "source": [
    "Move Folder to another folder"
   ]
  },
  {
   "cell_type": "code",
   "execution_count": 8,
   "metadata": {},
   "outputs": [],
   "source": [
    "def move_folder():\n",
    "    folder_to_move = fd.askdirectory(title='Select the folder you want to move')\n",
    "    mb.showinfo(message='You just selected the folder to move, now please select the desired destination where you want to move the folder to')\n",
    "    destination = fd.askdirectory(title='Where to move the folder to')\n",
    "\n",
    "    try:\n",
    "        shutil.move(folder_to_move, destination)\n",
    "        mb.showinfo(\"Folder moved\", 'Your desired folder has been moved to the location you wanted')\n",
    "    except:\n",
    "        mb.showerror('Error', 'We could not move your folder. Please make sure that the destination exists')"
   ]
  },
  {
   "cell_type": "markdown",
   "metadata": {},
   "source": [
    "Extract ZIP"
   ]
  },
  {
   "cell_type": "code",
   "execution_count": 9,
   "metadata": {},
   "outputs": [],
   "source": [
    "def extract_zip_to_folder():\n",
    "    zip_path = fd.askopenfilename(title='Choose a ZIP file to extract', filetypes=[(\"ZIP files\", \"*.zip\")])\n",
    "    extract_folder = fd.askdirectory(title=\"Choose the folder to extract to\")\n",
    "\n",
    "    try:\n",
    "        with zipfile.ZipFile(zip_path, 'r') as zip_ref:\n",
    "            zip_ref.extractall(extract_folder)\n",
    "        mb.showinfo(title='Extraction Complete', message='ZIP file extracted successfully.')\n",
    "    except Exception as e:\n",
    "        mb.showerror(title='Error', message=f'Error extracting ZIP file: {e}')"
   ]
  },
  {
   "cell_type": "markdown",
   "metadata": {},
   "source": [
    "Open Folder in terminal"
   ]
  },
  {
   "cell_type": "code",
   "execution_count": 10,
   "metadata": {},
   "outputs": [],
   "source": [
    "def open_in_terminal():\n",
    "    folder = fd.askdirectory(title=\"Select Folder to open in terminal\")\n",
    "    if folder:\n",
    "        os.system(f\"start cmd /K cd /d {folder}\")"
   ]
  },
  {
   "cell_type": "markdown",
   "metadata": {},
   "source": [
    "Search File in a folder"
   ]
  },
  {
   "cell_type": "code",
   "execution_count": 11,
   "metadata": {},
   "outputs": [],
   "source": [
    "def search_file():\n",
    "    folder = fd.askdirectory(title=\"Select Folder to Search\")\n",
    "    if not folder:\n",
    "        return  # User canceled\n",
    "\n",
    "    search_dialog = Toplevel(root)\n",
    "    search_dialog.title(\"Search for a File\")\n",
    "    search_dialog.geometry(\"300x100\")\n",
    "    search_dialog.resizable(0, 0)\n",
    "\n",
    "    Label(search_dialog, text=\"Enter the name of the file:\", font=(\"Arial\", 12)).pack(pady=10)\n",
    "\n",
    "    search_entry = Entry(search_dialog, font=(\"Arial\", 10), width=30)\n",
    "    search_entry.pack()\n",
    "\n",
    "    def perform_search():\n",
    "        file_name = search_entry.get()\n",
    "        if file_name:\n",
    "            results = [file for file in os.listdir(folder) if file_name in file]\n",
    "            if results:\n",
    "                results_wn = Toplevel(search_dialog)\n",
    "                results_wn.title(\"Search Results\")\n",
    "                results_wn.geometry(\"400x300\")\n",
    "                results_wn.resizable(0, 0)\n",
    "\n",
    "                listbox = Listbox(results_wn, selectbackground='SteelBlue', font=(\"Arial\", 10), height=15, width=50)\n",
    "\n",
    "                scrollbar = Scrollbar(listbox, orient=VERTICAL, command=listbox.yview)\n",
    "                scrollbar.pack(side=RIGHT, fill=Y)\n",
    "\n",
    "                listbox.config(yscrollcommand=scrollbar.set)\n",
    "                listbox.pack(padx=10, pady=10, fill=BOTH, expand=True)\n",
    "\n",
    "                for result in results:\n",
    "                    listbox.insert(END, result)\n",
    "\n",
    "            else:\n",
    "                mb.showinfo(\"Search Results\", \"No matching files found.\")\n",
    "        else:\n",
    "            mb.showinfo(\"Search Results\", \"Please enter a valid file name.\")\n",
    "\n",
    "    search_button = Button(search_dialog, text=\"Search\", font=(\"Arial\", 10), command=perform_search)\n",
    "    search_button.pack(pady=5)\n"
   ]
  },
  {
   "cell_type": "markdown",
   "metadata": {},
   "source": [
    "Show properties"
   ]
  },
  {
   "cell_type": "markdown",
   "metadata": {},
   "source": [
    "Need to solve problem of directory and file"
   ]
  },
  {
   "cell_type": "code",
   "execution_count": 12,
   "metadata": {},
   "outputs": [],
   "source": [
    "def show_properties():\n",
    "    path = fd.askopenfilename(title=\"Select File/Folder to show properties\", filetypes=[(\"All files\", \"*.*\")])\n",
    "    # path = fd.askdirectory(title=\"Select File/Folder to show properties\")\n",
    "    if path:\n",
    "        properties_wn = Toplevel(root)\n",
    "        properties_wn.title(\"Properties\")\n",
    "        properties_wn.geometry(\"300x200\")\n",
    "        properties_wn.resizable(0, 0)\n",
    "\n",
    "        Label(properties_wn, text=\"Properties of selected file/folder:\", font=(\"Arial\", 12)).pack(pady=10)\n",
    "\n",
    "        properties_text = Text(properties_wn, wrap=WORD, font=(\"Arial\", 10))\n",
    "        properties_text.pack(fill=BOTH, expand=True, padx=10, pady=5)\n",
    "\n",
    "        properties = \"\"\n",
    "        if os.path.exists(path):\n",
    "            properties += f\"Path: {path}\\n\"\n",
    "            properties += f\"Size: {os.path.getsize(path)} bytes\\n\"\n",
    "            properties += f\"Last Modified: {os.path.getmtime(path)}\\n\"\n",
    "            properties += f\"Is Directory: {os.path.isdir(path)}\\n\"\n",
    "        else:\n",
    "            properties = \"Selected file/folder does not exist.\"\n",
    "\n",
    "        properties_text.insert(END, properties)\n",
    "        properties_text.config(state=DISABLED)\n"
   ]
  },
  {
   "cell_type": "markdown",
   "metadata": {},
   "source": [
    "List down all the files in folder and count them"
   ]
  },
  {
   "cell_type": "code",
   "execution_count": 13,
   "metadata": {},
   "outputs": [],
   "source": [
    "def list_files_in_folder():\n",
    "    folder = fd.askdirectory(title='Select the folder whose files you want to list')\n",
    "\n",
    "    if not folder:\n",
    "        return  # User canceled\n",
    "\n",
    "    files = os.listdir(folder)\n",
    "\n",
    "    list_files_wn = Toplevel(root)\n",
    "    list_files_wn.title('Files in your selected folder')\n",
    "    list_files_wn.geometry('300x400')\n",
    "    list_files_wn.resizable(0, 0)\n",
    "\n",
    "    listbox = Listbox(list_files_wn, selectbackground='SteelBlue', font=(\"Georgia\", 10), height=15, width=40)\n",
    "\n",
    "    scrollbar = Scrollbar(listbox, orient=VERTICAL, command=listbox.yview)\n",
    "    scrollbar.pack(side=RIGHT, fill=Y)\n",
    "\n",
    "    listbox.config(yscrollcommand=scrollbar.set)\n",
    "    listbox.pack(padx=10, pady=10, fill=BOTH, expand=True)\n",
    "    \n",
    "    count = 0\n",
    "    for file in files:\n",
    "        listbox.insert(END, file)\n",
    "        count += 1\n",
    "\n",
    "    listbox.insert(END, \"\")\n",
    "    listbox.insert(END, \"Num of files = {}\".format(count))\n",
    "    list_files_wn.mainloop()  # Start the list_files_wn main loop\n",
    "  "
   ]
  },
  {
   "cell_type": "markdown",
   "metadata": {},
   "source": [
    "Tkinter GUI ~ always at the last"
   ]
  },
  {
   "cell_type": "code",
   "execution_count": 14,
   "metadata": {},
   "outputs": [],
   "source": [
    "title = 'ET-C3 Group 2 File Manager'\n",
    "background = 'Grey'\n",
    "\n",
    "# button_font = (\"Times New Roman\", 13)\n",
    "button_font = (\"Bell Gothic Std Light\", 13)\n",
    "button_background = 'White'\n",
    "\n",
    "# Initializing the window\n",
    "root = Tk()\n",
    "root.title(title)\n",
    "root.geometry('320x530')\n",
    "root.resizable(0, 0)\n",
    "root.config(bg=background)\n",
    "\n",
    "# Creating and placing the components in the window\n",
    "Label(root, text=title, font=(\"Comic Sans MS\", 15), bg=background, wraplength=350).place(x=20, y=0)\n",
    "\n",
    "Button(root, text='Open a file', width=20, font=button_font, bg=button_background, command=open_file).place(x=60, y=50)\n",
    "\n",
    "Button(root, text='Copy a file', width=20, font=button_font, bg=button_background, command=copy_file).place(x=60, y=90)\n",
    "\n",
    "Button(root, text='Rename a file', width=20, font=button_font, bg=button_background, command=rename_file).place(x=60, y=130)\n",
    "\n",
    "Button(root, text='Delete a file', width=20, font=button_font, bg=button_background, command=delete_file).place(x=60, y=170)\n",
    "\n",
    "Button(root, text='Open a folder', width=20, font=button_font, bg=button_background, command=open_folder).place(x=60, y=210)\n",
    "\n",
    "Button(root, text='Delete a folder', width=20, font=button_font, bg=button_background, command=delete_folder).place(x=60, y=250)\n",
    "\n",
    "Button(root, text='Move a folder', width=20, font=button_font, bg=button_background, command=move_folder).place(x=60, y=290)\n",
    "\n",
    "Button(root, text='List all files in a folder', width=20, font=button_font, bg=button_background,\n",
    "       command=list_files_in_folder).place(x=60, y=330)\n",
    "\n",
    "Button(root, text='Extract a ZIP to a Folder', width=20, font=button_font, bg=button_background, command=extract_zip_to_folder).place(x=60, y=370)\n",
    "\n",
    "Button(root, text='Open in Terminal', width=20, font=button_font, bg=button_background, command=open_in_terminal).place(x=60, y=410)\n",
    "\n",
    "# Adding the \"Show Properties\" button\n",
    "Button(root, text='Show Properties', width=20, font=button_font, bg=button_background, command=show_properties).place(x=60, y=450)\n",
    "\n",
    "Button(root, text='Search for a File', width=20, font=button_font, bg=button_background, command=search_file).place(x=60, y=490)\n",
    "\n",
    "# Finalizing the window\n",
    "root.update()\n",
    "root.mainloop()"
   ]
  },
  {
   "cell_type": "code",
   "execution_count": null,
   "metadata": {},
   "outputs": [],
   "source": []
  }
 ],
 "metadata": {
  "kernelspec": {
   "display_name": "base",
   "language": "python",
   "name": "python3"
  },
  "language_info": {
   "codemirror_mode": {
    "name": "ipython",
    "version": 3
   },
   "file_extension": ".py",
   "mimetype": "text/x-python",
   "name": "python",
   "nbconvert_exporter": "python",
   "pygments_lexer": "ipython3",
   "version": "3.9.7"
  },
  "orig_nbformat": 4
 },
 "nbformat": 4,
 "nbformat_minor": 2
}

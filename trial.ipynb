{
 "cells": [
  {
   "cell_type": "code",
   "execution_count": 1,
   "metadata": {},
   "outputs": [],
   "source": [
    "import os"
   ]
  },
  {
   "cell_type": "code",
   "execution_count": 4,
   "metadata": {},
   "outputs": [],
   "source": [
    "folderpath = r\"C:\\Users\\pandi\\Desktop\\New folder\"\n",
    "os.chdir(folderpath)"
   ]
  },
  {
   "cell_type": "code",
   "execution_count": 5,
   "metadata": {},
   "outputs": [
    {
     "data": {
      "text/plain": [
       "'C:\\\\Users\\\\pandi\\\\Desktop\\\\New folder'"
      ]
     },
     "execution_count": 5,
     "metadata": {},
     "output_type": "execute_result"
    }
   ],
   "source": [
    "os.getcwd()"
   ]
  },
  {
   "cell_type": "code",
   "execution_count": 7,
   "metadata": {},
   "outputs": [
    {
     "name": "stdout",
     "output_type": "stream",
     "text": [
      "['articles.css', 'articles.html', 'Color Cop.lnk', 'Data science.rar', 'DBMS.rar', 'Image1.jpg', 'Image2.jpg', 'img_slider.css', 'img_slider.html', 'img_slider.js', 'IOT.rar', 'Lecture PPTs_1.rar', 'Lecture PPTs_2.rar', 'Lecture PPTs_3.rar', 'Lecture PPTs_4.rar', 'Lecture PPTs_5.rar', 'Lecture PPTs_6.rar', 'Network Security in IoT.docx', 'Notion.lnk', 'Proteus 8.11 Pro HomeMade Electronics', 'pune-cp.jpg', 'reg_form.php', 'services.msc', 'Smart Sensors in IoT.docx', 'viewStatus.css', 'viewStatus.html', 'withdraw.css', 'withdraw.html', 'xampp - htdocs - ADS_Project']\n"
     ]
    }
   ],
   "source": [
    "all_files = os.listdir()\n",
    "print(all_files)"
   ]
  },
  {
   "cell_type": "code",
   "execution_count": 8,
   "metadata": {},
   "outputs": [
    {
     "name": "stdout",
     "output_type": "stream",
     "text": [
      "['css', 'html', 'lnk', 'rar', 'rar', 'jpg', 'jpg', 'css', 'html', 'js', 'rar', 'rar', 'rar', 'rar', 'rar', 'rar', 'rar', 'docx', 'lnk', '11 Pro HomeMade Electronics', 'jpg', 'php', 'msc', 'docx', 'css', 'html', 'css', 'html', 'xampp - htdocs - ADS_Project']\n"
     ]
    }
   ],
   "source": [
    "list_extensions = []\n",
    "for _ in all_files:\n",
    "    extension = _.split(\".\")[-1]\n",
    "    list_extensions.append(extension)\n",
    "print(list_extensions)"
   ]
  },
  {
   "cell_type": "code",
   "execution_count": 9,
   "metadata": {},
   "outputs": [
    {
     "data": {
      "text/plain": [
       "29"
      ]
     },
     "execution_count": 9,
     "metadata": {},
     "output_type": "execute_result"
    }
   ],
   "source": [
    "len(list_extensions)"
   ]
  },
  {
   "cell_type": "code",
   "execution_count": null,
   "metadata": {},
   "outputs": [],
   "source": []
  }
 ],
 "metadata": {
  "kernelspec": {
   "display_name": "base",
   "language": "python",
   "name": "python3"
  },
  "language_info": {
   "codemirror_mode": {
    "name": "ipython",
    "version": 3
   },
   "file_extension": ".py",
   "mimetype": "text/x-python",
   "name": "python",
   "nbconvert_exporter": "python",
   "pygments_lexer": "ipython3",
   "version": "3.9.7"
  },
  "orig_nbformat": 4
 },
 "nbformat": 4,
 "nbformat_minor": 2
}
